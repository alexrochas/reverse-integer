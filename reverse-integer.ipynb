{
 "cells": [
  {
   "cell_type": "code",
   "execution_count": 1,
   "metadata": {},
   "outputs": [
    {
     "data": {
      "text/plain": [
       "123"
      ]
     },
     "execution_count": 1,
     "metadata": {},
     "output_type": "execute_result"
    }
   ],
   "source": [
    "n = 123"
   ]
  },
  {
   "cell_type": "code",
   "execution_count": 135,
   "metadata": {},
   "outputs": [
    {
     "data": {
      "text/plain": [
       ":marshall"
      ]
     },
     "execution_count": 135,
     "metadata": {},
     "output_type": "execute_result"
    }
   ],
   "source": [
    "def unmarshall(n, base=10)\n",
    "  def extract_n(n, base, arr=[])\n",
    "    result = n % base\n",
    "    int = result/(base/10)\n",
    "    if n-result > 0 \n",
    "        arr << extract_n(n-result, base * 10)\n",
    "    end\n",
    "    arr << int\n",
    "  end\n",
    "  \n",
    "  extract_n(n, base).flatten\n",
    "end\n",
    "\n",
    "def marshall(arr)\n",
    "  (1..arr.size)\n",
    "    .each_with_index.map { |i, e|\n",
    "      e*(10**i)\n",
    "    }.sum\n",
    "end"
   ]
  },
  {
   "cell_type": "code",
   "execution_count": 136,
   "metadata": {},
   "outputs": [
    {
     "data": {
      "text/plain": [
       "2100"
      ]
     },
     "execution_count": 136,
     "metadata": {},
     "output_type": "execute_result"
    }
   ],
   "source": [
    "marshall(unmarshall(n).reverse)"
   ]
  },
  {
   "cell_type": "code",
   "execution_count": null,
   "metadata": {},
   "outputs": [],
   "source": []
  }
 ],
 "metadata": {
  "kernelspec": {
   "display_name": "Ruby 2.5.3",
   "language": "ruby",
   "name": "ruby"
  },
  "language_info": {
   "file_extension": ".rb",
   "mimetype": "application/x-ruby",
   "name": "ruby",
   "version": "2.5.3"
  }
 },
 "nbformat": 4,
 "nbformat_minor": 2
}
